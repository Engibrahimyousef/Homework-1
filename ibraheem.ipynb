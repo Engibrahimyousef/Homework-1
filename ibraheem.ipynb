{
 "cells": [
  {
   "cell_type": "code",
   "execution_count": 1,
   "id": "a78dc9aa",
   "metadata": {},
   "outputs": [
    {
     "name": "stdout",
     "output_type": "stream",
     "text": [
      "{'HTTP': 80, 'HTTPS': 443, 'FTP': 21, 'DNS': 53}\n"
     ]
    }
   ],
   "source": [
    "L1 = ['HTTP', 'HTTPS', 'FTP', 'DNS']\n",
    "L2 = [80, 443, 21, 53]\n",
    "d = {}\n",
    "for i in range(len(L1)):\n",
    "    d[L1[i]] = L2[i]\n",
    "print(d)"
   ]
  },
  {
   "cell_type": "code",
   "execution_count": 3,
   "id": "14d83138",
   "metadata": {},
   "outputs": [
    {
     "name": "stdout",
     "output_type": "stream",
     "text": [
      "input a number: 3\n",
      "6\n"
     ]
    }
   ],
   "source": [
    "def func1(n):\n",
    "    if n == 0:\n",
    "        return 1\n",
    "    else:\n",
    "        return n * func1(n - 1)\n",
    "\n",
    "number = int(input(\"input a number: \"))\n",
    "print(func1(number))"
   ]
  },
  {
   "cell_type": "code",
   "execution_count": 4,
   "id": "230bafe4",
   "metadata": {},
   "outputs": [
    {
     "name": "stdout",
     "output_type": "stream",
     "text": [
      "Bio\n"
     ]
    }
   ],
   "source": [
    "L = ['Network', 'Bio', 'Programming', 'Physics', 'Music']\n",
    "for item in L:\n",
    "    if item.startswith('B'):\n",
    "        print(item)"
   ]
  },
  {
   "cell_type": "code",
   "execution_count": 5,
   "id": "4e44fbee",
   "metadata": {},
   "outputs": [
    {
     "name": "stdout",
     "output_type": "stream",
     "text": [
      "{0: 1, 1: 2, 2: 3, 3: 4, 4: 5, 5: 6, 6: 7, 7: 8, 8: 9, 9: 10, 10: 11}\n"
     ]
    }
   ],
   "source": [
    "d = {i: i + 1 for i in range(11)}\n",
    "print(d)"
   ]
  },
  {
   "cell_type": "code",
   "execution_count": 8,
   "id": "41d935e8",
   "metadata": {},
   "outputs": [
    {
     "name": "stdout",
     "output_type": "stream",
     "text": [
      "enter binary: 1010\n",
      "10\n",
      "enter s to stop: 1\n",
      "enter binary: 10\n",
      "2\n",
      "enter s to stop: i\n",
      "enter binary: i\n",
      "input binary number\n",
      "enter s to stop: s\n"
     ]
    }
   ],
   "source": [
    "l=[]\n",
    "while True:\n",
    "    b=input('enter binary: ')\n",
    "    if b.isdigit():\n",
    "        d=0\n",
    "        for i in b:\n",
    "            l.append(int(i))\n",
    "        l.reverse()\n",
    "        for i in range(len(l)):\n",
    "            d+=l[i]*2**i\n",
    "        print(d)\n",
    "    else:\n",
    "        print(\"input binary number\")\n",
    "    s=input('enter s to stop: ')\n",
    "    if s!='s':\n",
    "        l=[]\n",
    "    else:\n",
    "        break"
   ]
  },
  {
   "cell_type": "code",
   "execution_count": 11,
   "id": "caf68130",
   "metadata": {},
   "outputs": [
    {
     "name": "stdout",
     "output_type": "stream",
     "text": [
      "أدخل اسمك: ابراهيم يوسف\n",
      "3 + 7 = 10\n",
      "18 - 7 = 11\n",
      "4 * 8 = 32\n",
      "64 / 8 = 8\n",
      "12 + 5 = 17\n",
      "35 - 20 = 15\n",
      "2 * 9 = 18\n",
      "27 / 3 = 9\n",
      "5 + 15 = 20\n",
      "40 - 25 = 20\n",
      "3 * 6 = 18\n",
      "54 / 6 = 9\n",
      "14 + 6 = 21\n",
      "33 - 19 = 12\n",
      "7 * 4 = 28\n",
      "72 / 8 = 9\n",
      "9 + 11 = 20\n",
      "22 - 7 = 11\n",
      "3 * 8 = 18\n",
      "48 / 6 = 8\n",
      "ابراهيم يوسف، نتيجتك هي: 15\n"
     ]
    }
   ],
   "source": [
    "\n",
    "# قراءة الأسئلة والأجوبة من الملف النصي\n",
    "questions = []\n",
    "try:\n",
    "    file=open('qa.txt', 'r')\n",
    "    lines = file.readlines()\n",
    "    for line in lines:\n",
    "        question, answer = line.strip().split('=')\n",
    "        questions.append((question.strip(), int(answer.strip())))\n",
    "except Exception as e:\n",
    "    print(f\"خطأ في قراءة الملف: {e}\")\n",
    "\n",
    "# الحصول على اسم المستخدم\n",
    "username = input(\"أدخل اسمك: \")\n",
    "\n",
    "# حساب النتيجة\n",
    "score = 0\n",
    "for question, correct_answer in questions:\n",
    "    user_answer = int(input(f\"{question} = \"))\n",
    "    if user_answer == correct_answer:\n",
    "        score += 1\n",
    "\n",
    "# عرض النتيجة النهائية للمستخدم\n",
    "a=f\"{username}، نتيجتك هي: {score}\"\n",
    "print(a)\n",
    "outfile=open('r.csv', 'w')\n",
    "outfile.write(a)\n",
    "outfile.close()"
   ]
  },
  {
   "cell_type": "code",
   "execution_count": 1,
   "id": "7129fd36",
   "metadata": {},
   "outputs": [
    {
     "name": "stdout",
     "output_type": "stream",
     "text": [
      "Balance after deposit: $1000.00\n",
      "Balance after withdrawal: $500.00\n",
      "Current balance: $1050.00, Interest rate: 5.00%\n"
     ]
    }
   ],
   "source": [
    "class BankAccount:\n",
    "    def __init__(self, account_number, account_holder):\n",
    "        self.account_number = account_number\n",
    "        self.account_holder = account_holder\n",
    "        self.balance = 0.0\n",
    "\n",
    "    def deposit(self, amount):\n",
    "        self.balance += amount\n",
    "\n",
    "    def withdraw(self, amount):\n",
    "        if amount <= self.balance:\n",
    "            self.balance -= amount\n",
    "        else:\n",
    "            print(\"Insufficient funds\")\n",
    "\n",
    "    def get_balance(self):\n",
    "        return self.balance\n",
    "\n",
    "class SavingsAccount(BankAccount):\n",
    "    def __init__(self, account_number, account_holder, interest_rate):\n",
    "        super().__init__(account_number, account_holder)\n",
    "        self.interest_rate = interest_rate\n",
    "\n",
    "    def apply_interest(self):\n",
    "        self.balance += self.balance * self.interest_rate\n",
    "\n",
    "    def print(self):\n",
    "        print(f\"Current balance: ${self.balance:.2f}, Interest rate: {self.interest_rate * 100:.2f}%\")\n",
    "\n",
    "# إنشاء حساب بنك\n",
    "account = BankAccount(\"1874\", \"ibraheem\")\n",
    "account.deposit(1000)\n",
    "print(f\"Balance after deposit: ${account.get_balance():.2f}\")\n",
    "account.withdraw(500)\n",
    "print(f\"Balance after withdrawal: ${account.get_balance():.2f}\")\n",
    "\n",
    "# إنشاء حساب توفير\n",
    "savings = SavingsAccount(\"12345\", \"Ahmed\", 0.05)\n",
    "savings.deposit(1000)\n",
    "savings.apply_interest()\n",
    "savings.print()"
   ]
  },
  {
   "cell_type": "code",
   "execution_count": null,
   "id": "cf006fe4",
   "metadata": {},
   "outputs": [],
   "source": []
  }
 ],
 "metadata": {
  "kernelspec": {
   "display_name": "Python 3 (ipykernel)",
   "language": "python",
   "name": "python3"
  },
  "language_info": {
   "codemirror_mode": {
    "name": "ipython",
    "version": 3
   },
   "file_extension": ".py",
   "mimetype": "text/x-python",
   "name": "python",
   "nbconvert_exporter": "python",
   "pygments_lexer": "ipython3",
   "version": "3.11.2"
  }
 },
 "nbformat": 4,
 "nbformat_minor": 5
}
